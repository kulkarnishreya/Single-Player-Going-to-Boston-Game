{
  "nbformat": 4,
  "nbformat_minor": 0,
  "metadata": {
    "colab": {
      "name": "Single Player Going to Boston Game",
      "provenance": [],
      "collapsed_sections": [],
      "authorship_tag": "ABX9TyNHGwcXYb8y3JGFBm4fz841",
      "include_colab_link": true
    },
    "kernelspec": {
      "name": "python3",
      "display_name": "Python 3"
    },
    "language_info": {
      "name": "python"
    }
  },
  "cells": [
    {
      "cell_type": "markdown",
      "metadata": {
        "id": "view-in-github",
        "colab_type": "text"
      },
      "source": [
        "<a href=\"https://colab.research.google.com/github/kulkarnishreya/Single-Player-Going-to-Boston-Game/blob/main/Single_Player_Going_to_Boston_Game.ipynb\" target=\"_parent\"><img src=\"https://colab.research.google.com/assets/colab-badge.svg\" alt=\"Open In Colab\"/></a>"
      ]
    },
    {
      "cell_type": "markdown",
      "source": [
        "Motive:\n",
        "* Create simple games and/or simulations that involve random numbers."
      ],
      "metadata": {
        "id": "_dy1HsUN44DQ"
      }
    },
    {
      "cell_type": "markdown",
      "source": [
        "### Part 1: Single-player *Going to Boston* Game \n",
        "\n",
        "For this part of the assignment I implement a single-player variant of the children's game [*Going to Boston*](https://www.dicegamedepot.com/going-to-boston-dice-game-rules/). The computer plays three rounds of the game using three dice:\n",
        "\n",
        "1. On the first throw, the highest number is put to one side. If two or more of the dice show the highest number, only one is put to the side.\n",
        "\n",
        "1. The remaining two dice are thrown and once again the highest-numbered die is put aside.\n",
        "\n",
        "1. The final die is then rolled and the total of all three dice is the score.\n",
        "\n",
        "Completing the `boston` function, which takes a single argument representing the number of sides on the dice. I am assuming that the input argument is valid and is at least 4. The function returns the score after rolling the dice during the 3 rounds."
      ],
      "metadata": {
        "id": "tAYXyb1V4_yO"
      }
    },
    {
      "cell_type": "code",
      "source": [
        "import random\n",
        "\n",
        "def boston(num_sides):\n",
        "    score = 0\n",
        "    for rounds in reversed(range(3)):\n",
        "        x = rounds + 1\n",
        "        max_value = 0\n",
        "        while x > 0:\n",
        "            current_value = random.randint(1, num_sides)\n",
        "            if max_value < current_value:\n",
        "                max_value = current_value\n",
        "            x = x - 1\n",
        "        score += max_value        \n",
        "    return score\n",
        "\n",
        "# The code below will call your function many times to check the result.\n",
        "# If your simulation is correct, the average score when num_sides = 6\n",
        "# should be approximately 12.9.\n",
        "trials = 100000\n",
        "num_sides = 6\n",
        "avg = sum([boston(num_sides) for i in range(trials)])/trials\n",
        "print(f'Average score per game for num_sides = {num_sides}: {avg}  (should be approximately 12.9)')\n",
        "\n",
        "num_sides = 8\n",
        "avg = sum([boston(num_sides) for i in range(trials)])/trials\n",
        "print(f'Average score per game for num_sides = {num_sides}: {avg}  (should be approximately 16.8)')\n",
        "\n",
        "num_sides = 20\n",
        "avg = sum([boston(num_sides) for i in range(trials)])/trials\n",
        "print(f'Average score per game for num_sides = {num_sides}: {avg}  (should be approximately 39.8)')"
      ],
      "metadata": {
        "colab": {
          "base_uri": "https://localhost:8080/"
        },
        "id": "kddT0mC15F-_",
        "outputId": "5c35349e-8597-4ba2-9c11-0bb1f1216243"
      },
      "execution_count": 1,
      "outputs": [
        {
          "output_type": "stream",
          "name": "stdout",
          "text": [
            "Average score per game for num_sides = 6: 12.92645  (should be approximately 12.9)\n",
            "Average score per game for num_sides = 8: 16.78125  (should be approximately 16.8)\n",
            "Average score per game for num_sides = 20: 39.81168  (should be approximately 39.8)\n"
          ]
        }
      ]
    }
  ]
}